{
 "cells": [
  {
   "cell_type": "code",
   "execution_count": 7,
   "id": "469289d3",
   "metadata": {},
   "outputs": [
    {
     "name": "stdout",
     "output_type": "stream",
     "text": [
      "2\n",
      "['ArithmeticError', 'AssertionError', 'AttributeError', 'BaseException', 'BaseExceptionGroup', 'BlockingIOError', 'BrokenPipeError', 'BufferError', 'BytesWarning', 'ChildProcessError', 'ConnectionAbortedError', 'ConnectionError', 'ConnectionRefusedError', 'ConnectionResetError', 'DeprecationWarning', 'EOFError', 'Ellipsis', 'EncodingWarning', 'EnvironmentError', 'Exception', 'ExceptionGroup', 'False', 'FileExistsError', 'FileNotFoundError', 'FloatingPointError', 'FutureWarning', 'GeneratorExit', 'IOError', 'ImportError', 'ImportWarning', 'IndentationError', 'IndexError', 'InterruptedError', 'IsADirectoryError', 'KeyError', 'KeyboardInterrupt', 'LookupError', 'MemoryError', 'ModuleNotFoundError', 'NameError', 'None', 'NotADirectoryError', 'NotImplemented', 'NotImplementedError', 'OSError', 'OverflowError', 'PendingDeprecationWarning', 'PermissionError', 'ProcessLookupError', 'PythonFinalizationError', 'RecursionError', 'ReferenceError', 'ResourceWarning', 'RuntimeError', 'RuntimeWarning', 'StopAsyncIteration', 'StopIteration', 'SyntaxError', 'SyntaxWarning', 'SystemError', 'SystemExit', 'TabError', 'TimeoutError', 'True', 'TypeError', 'UnboundLocalError', 'UnicodeDecodeError', 'UnicodeEncodeError', 'UnicodeError', 'UnicodeTranslateError', 'UnicodeWarning', 'UserWarning', 'ValueError', 'Warning', 'WindowsError', 'ZeroDivisionError', '_IncompleteInputError', '__IPYTHON__', '__build_class__', '__debug__', '__doc__', '__import__', '__loader__', '__name__', '__package__', '__spec__', 'abs', 'aiter', 'all', 'anext', 'any', 'ascii', 'bin', 'bool', 'breakpoint', 'bytearray', 'bytes', 'callable', 'chr', 'classmethod', 'compile', 'complex', 'copyright', 'credits', 'delattr', 'dict', 'dir', 'display', 'divmod', 'enumerate', 'eval', 'exec', 'execfile', 'filter', 'float', 'format', 'frozenset', 'get_ipython', 'getattr', 'globals', 'hasattr', 'hash', 'help', 'hex', 'id', 'input', 'int', 'isinstance', 'issubclass', 'iter', 'len', 'license', 'list', 'locals', 'map', 'max', 'memoryview', 'min', 'next', 'object', 'oct', 'open', 'ord', 'pow', 'print', 'property', 'range', 'repr', 'reversed', 'round', 'runfile', 'set', 'setattr', 'slice', 'sorted', 'staticmethod', 'str', 'sum', 'super', 'tuple', 'type', 'vars', 'zip']\n"
     ]
    }
   ],
   "source": [
    "#HW1\n",
    "import builtins\n",
    "\n",
    "\n",
    "a=int(input())\n",
    "print(2*a)\n",
    "print(dir(builtins))\n",
    "\n"
   ]
  },
  {
   "cell_type": "code",
   "execution_count": 4,
   "id": "9a71b483",
   "metadata": {},
   "outputs": [
    {
     "name": "stdout",
     "output_type": "stream",
     "text": [
      "4.93\n"
     ]
    }
   ],
   "source": [
    "#HW2\n",
    "cd=float(input())\n",
    "cr=float(input())\n",
    "pi=3.14\n",
    "print(f'{cd*cr-(((cr/2))**2*pi):.2f}')\n"
   ]
  },
  {
   "cell_type": "code",
   "execution_count": null,
   "id": "2a8d8f12",
   "metadata": {},
   "outputs": [
    {
     "name": "stdout",
     "output_type": "stream",
     "text": [
      "A\n",
      "Nhap mot ki tu\n"
     ]
    }
   ],
   "source": [
    "#HW3\n",
    "c=input()\n",
    "if c.isupper():\n",
    "    print(c.lower())\n",
    "else:\n",
    "    print(c.upper())\n",
    "#Cach2\n",
    "b=input()\n",
    "if len(b)==1:\n",
    "    if b<='Z' and b>='A':\n",
    "        print(chr(ord(b)+32))\n",
    "    elif b<='z' and b>='a':\n",
    "        print(chr(ord(b)-32))\n",
    "    else:\n",
    "        print('Day khong phai chu cai')\n",
    "else:\n",
    "    print('Nhap mot ki tu')\n",
    "\n"
   ]
  },
  {
   "cell_type": "code",
   "execution_count": 12,
   "id": "0b8666b5",
   "metadata": {},
   "outputs": [
    {
     "name": "stdout",
     "output_type": "stream",
     "text": [
      "c la ki tu alphabet\n"
     ]
    }
   ],
   "source": [
    "#HW4\n",
    "c=input()\n",
    "if 64<ord(c)<91:\n",
    "    print('c la ki tu alphabet')\n",
    "elif 96<ord(c)<123:\n",
    "    print('c la ki tu alphabet')\n",
    "else:\n",
    "    print('c khong phai ki tu alphabet')\n",
    "    \n"
   ]
  },
  {
   "cell_type": "code",
   "execution_count": 18,
   "id": "7e414598",
   "metadata": {},
   "outputs": [
    {
     "name": "stdout",
     "output_type": "stream",
     "text": [
      "f\n"
     ]
    }
   ],
   "source": [
    "#HW5\n",
    "A=input()\n",
    "if 65<ord(A)<91:\n",
    "    print(chr(ord(A)+31))\n",
    "elif ord(A)==65:\n",
    "    print(chr(ord(A)+32))\n"
   ]
  },
  {
   "cell_type": "code",
   "execution_count": 16,
   "id": "35dbd42d",
   "metadata": {},
   "outputs": [
    {
     "name": "stdout",
     "output_type": "stream",
     "text": [
      "6.0\n"
     ]
    }
   ],
   "source": [
    "#HW6\n",
    "a=float(input())\n",
    "b=float(input())\n",
    "c=float(input())\n",
    "cv=(a+b+c)/2\n",
    "if a+b>c and a+c>b and b+c>a:\n",
    "    print(f'{(cv*(cv-a)*(cv-b)*(cv-c))**0.5:.1f}')\n",
    "else:\n",
    "    print('Khong phai 3 canh cua tam giac')\n",
    "    \n",
    "    \n"
   ]
  },
  {
   "cell_type": "code",
   "execution_count": 18,
   "id": "ac75c79c",
   "metadata": {},
   "outputs": [
    {
     "name": "stdout",
     "output_type": "stream",
     "text": [
      "5\n",
      "9\n"
     ]
    }
   ],
   "source": [
    "#HW7\n",
    "a=input()\n",
    "if len(a)>=20:\n",
    "    print(a[4],a[8], sep='\\n')\n",
    "else:\n",
    "    print('error')\n"
   ]
  },
  {
   "cell_type": "code",
   "execution_count": null,
   "id": "4e3dddff",
   "metadata": {},
   "outputs": [
    {
     "name": "stdout",
     "output_type": "stream",
     "text": [
      "426038\n"
     ]
    }
   ],
   "source": [
    "#HW8\n",
    "a=input('Ten chu ho:')\n",
    "b1=float(input('Chi so thang truoc:'))\n",
    "b2=float(input('Chi so thang nay:'))\n",
    "b=b2-b1\n",
    "def tien_dien(b):\n",
    "    if b<=50:\n",
    "        return 1984*b\n",
    "    elif 50<b<=100:\n",
    "        return 1984*50+2050*(b-50)\n",
    "    elif 100<b<=200:\n",
    "        return 1984*50+2050*50+2380*(b-100)\n",
    "    elif 200<b<=300:\n",
    "        return 1.984*50+2.050*50+2.380*100+2.998*(b-200)\n",
    "    elif 300<b<=400:\n",
    "        return 1984*50+2050*50+2380*100+2998*100+3350*(b-300)\n",
    "    elif 400<b:\n",
    "        return 1984*50+2050*50+2380*100+2998*100+3350*100+3460*(b-400)\n",
    "print(int(tien_dien(b)*1.08))  \n",
    "\n"
   ]
  }
 ],
 "metadata": {
  "kernelspec": {
   "display_name": "Python 3",
   "language": "python",
   "name": "python3"
  },
  "language_info": {
   "codemirror_mode": {
    "name": "ipython",
    "version": 3
   },
   "file_extension": ".py",
   "mimetype": "text/x-python",
   "name": "python",
   "nbconvert_exporter": "python",
   "pygments_lexer": "ipython3",
   "version": "3.13.5"
  }
 },
 "nbformat": 4,
 "nbformat_minor": 5
}
