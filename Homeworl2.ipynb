{
 "cells": [
  {
   "cell_type": "code",
   "execution_count": 21,
   "id": "18a2f4de",
   "metadata": {},
   "outputs": [
    {
     "name": "stdout",
     "output_type": "stream",
     "text": [
      "Chu vi hinh chu nhat la: 14.0\n",
      "Dien tich hinh chu nhat la: 12.0\n"
     ]
    }
   ],
   "source": [
    "#HW1\n",
    "a=float(input())\n",
    "b=float(input())\n",
    "C=2*(a+b)\n",
    "S=a*b\n",
    "print('Chu vi hinh chu nhat la:',C)\n",
    "print('Dien tich hinh chu nhat la:',S)\n"
   ]
  },
  {
   "cell_type": "code",
   "execution_count": 8,
   "id": "2ebd4b85",
   "metadata": {},
   "outputs": [
    {
     "name": "stdout",
     "output_type": "stream",
     "text": [
      "Chu vi hinh tron la: 18.85\n",
      "Dien tich hinh tron la: 28.27\n"
     ]
    }
   ],
   "source": [
    "#HW2\n",
    "import math\n",
    "r=float(input())\n",
    "pi=math.pi\n",
    "print(f'Chu vi hinh tron la: {2*pi*r:.2f}')\n",
    "print(f'Dien tich hinh tron la: {pi*r**2:.2f}')\n"
   ]
  },
  {
   "cell_type": "code",
   "execution_count": 37,
   "id": "0d118c12",
   "metadata": {},
   "outputs": [
    {
     "name": "stdout",
     "output_type": "stream",
     "text": [
      "la tam giac vuong\n",
      "Chu vi tam giac la: 12.00\n",
      "Dien tich cua tam giac la: 6.00\n"
     ]
    }
   ],
   "source": [
    "#HW3\n",
    "a=float(input())\n",
    "b=float(input())\n",
    "c=float(input())\n",
    "C=a+b+c\n",
    "p=C/2\n",
    "S=(p*(p-a)*(p-b)*(p-c))**0.5\n",
    "if a+b<=c or a+c<=b or b+c<=a:\n",
    "    print('Khong phai 3 canh cua tam giac')\n",
    "else:\n",
    "    if a==b==c:\n",
    "        print('la tam giac deu')\n",
    "    elif a==b or b==c or a==c: \n",
    "        print('la tam giac can')\n",
    "    elif a**2+b**2==c**2 or a**2+c**2==b**2 or b**2+c**2==a**2:\n",
    "        print('la tam giac vuong')\n",
    "    else:\n",
    "        print('la tam giac thuong')\n",
    "\n",
    "    print(f'Chu vi tam giac la: {C:.2f}')\n",
    "    print(f'Dien tich cua tam giac la: {S:.2f}') "
   ]
  },
  {
   "cell_type": "code",
   "execution_count": 46,
   "id": "5580f7ea",
   "metadata": {},
   "outputs": [
    {
     "name": "stdout",
     "output_type": "stream",
     "text": [
      "Nghiem cua phuong trinh ax+b=0 la: -0.00\n"
     ]
    }
   ],
   "source": [
    "#HW4\n",
    "a=float(input('Nhap a:'))\n",
    "b=float(input('Nhap b:'))\n",
    "if a==0:\n",
    "    if b==0:\n",
    "        print('Phuong trinh vo so nghiem')\n",
    "    else:\n",
    "        print('Phuong trinh vo nghiem')\n",
    "else:\n",
    "    x=-b/a\n",
    "    print(f'Nghiem cua phuong trinh ax+b=0 la: {x:.2f}')\n",
    "\n",
    "\n",
    "\n"
   ]
  },
  {
   "cell_type": "code",
   "execution_count": 70,
   "id": "48523a5b",
   "metadata": {},
   "outputs": [
    {
     "name": "stdout",
     "output_type": "stream",
     "text": [
      "phương trình có hai nghiệm x1=-0.59 và x2=-3.41\n"
     ]
    }
   ],
   "source": [
    "#HW5\n",
    "a=float(input())\n",
    "b=float(input())\n",
    "c=float(input())\n",
    "if a==0:\n",
    "    if b==0:\n",
    "        if c==0:\n",
    "            print('phương trình vô số nghiệm')\n",
    "        else:\n",
    "            print('phương trình vô nghiệm')\n",
    "    else:\n",
    "        if c==0:\n",
    "            print('phương trình nghiệm x=0')\n",
    "        else:\n",
    "            x=-c/b\n",
    "            print(f'phương trình có nghiệm x={x:.2f}')\n",
    "else:\n",
    "    delta=b**2-4*a*c\n",
    "    if delta<0:\n",
    "        print('phương trình vô nghiệm')\n",
    "    elif delta==0:\n",
    "        x=-b/(2*a)\n",
    "        print(f'phương trình có nghiệm duy nhất x={x:.2f}')\n",
    "    else:\n",
    "        x=(-b+delta**0.5)/(2*a)\n",
    "        y=(-b-delta**0.5)/(2*a)\n",
    "        print(f'phương trình có hai nghiệm x1={x:.2f} và x2={y:.2f}')\n",
    "         "
   ]
  },
  {
   "cell_type": "code",
   "execution_count": 1,
   "id": "32f8ef62",
   "metadata": {},
   "outputs": [
    {
     "ename": "ValueError",
     "evalue": "invalid literal for int() with base 10: '3 4 5'",
     "output_type": "error",
     "traceback": [
      "\u001b[31m---------------------------------------------------------------------------\u001b[39m",
      "\u001b[31mValueError\u001b[39m                                Traceback (most recent call last)",
      "\u001b[36mCell\u001b[39m\u001b[36m \u001b[39m\u001b[32mIn[1]\u001b[39m\u001b[32m, line 2\u001b[39m\n\u001b[32m      1\u001b[39m \u001b[38;5;66;03m#HW6\u001b[39;00m\n\u001b[32m----> \u001b[39m\u001b[32m2\u001b[39m a=\u001b[38;5;28;43mint\u001b[39;49m\u001b[43m(\u001b[49m\u001b[38;5;28;43minput\u001b[39;49m\u001b[43m(\u001b[49m\u001b[43m)\u001b[49m\u001b[43m)\u001b[49m\n\u001b[32m      3\u001b[39m b=\u001b[38;5;28mint\u001b[39m(\u001b[38;5;28minput\u001b[39m())\n\u001b[32m      4\u001b[39m c=\u001b[38;5;28mint\u001b[39m(\u001b[38;5;28minput\u001b[39m())\n",
      "\u001b[31mValueError\u001b[39m: invalid literal for int() with base 10: '3 4 5'"
     ]
    }
   ],
   "source": [
    "#HW6\n",
    "a=int(input())\n",
    "b=int(input())\n",
    "c=int(input())\n",
    "d=int(input())\n",
    "A=[a, b, c, d]\n",
    "x=A[0]\n",
    "for i in A:\n",
    "    if x<i:\n",
    "        x=i\n",
    "print(x)"
   ]
  },
  {
   "cell_type": "code",
   "execution_count": 81,
   "id": "afbb602e",
   "metadata": {},
   "outputs": [
    {
     "name": "stdout",
     "output_type": "stream",
     "text": [
      "1\n"
     ]
    }
   ],
   "source": [
    "#HW7\n",
    "a=int(input())\n",
    "b=int(input())\n",
    "c=int(input())\n",
    "d=int(input())\n",
    "A=[a, b, c, d]\n",
    "x=A[0]\n",
    "for i in A:\n",
    "    if x>i:\n",
    "        x=i\n",
    "print(x)"
   ]
  },
  {
   "cell_type": "code",
   "execution_count": null,
   "id": "d4832f4d",
   "metadata": {},
   "outputs": [
    {
     "name": "stdout",
     "output_type": "stream",
     "text": [
      "hệ có nghiệm x=-3.00, y=3.00\n"
     ]
    }
   ],
   "source": [
    "#HW8\n",
    "#ax+by=m\n",
    "#cx+dy=n\n",
    "a, b, m, c, d, n=map(int, input().split())\n",
    "if c!=0:\n",
    "    d=b*c-d*a\n",
    "    n=m*c-n*a\n",
    "    c=a*c-c*a\n",
    "if d==0:\n",
    "    if n==0:\n",
    "            print('hệ có vô số nghiệm')\n",
    "    else:\n",
    "            print('hệ vô nghiệm')\n",
    "else:\n",
    "        y=n/d\n",
    "        x=(m-(b*y))/a\n",
    "        print(f'hệ có nghiệm x={x:.2f}, y={y:.2f}')\n"
   ]
  },
  {
   "cell_type": "code",
   "execution_count": 18,
   "id": "55f67ac5",
   "metadata": {},
   "outputs": [
    {
     "name": "stdout",
     "output_type": "stream",
     "text": [
      "1 gio 1 phut 1 giay\n"
     ]
    }
   ],
   "source": [
    "#HW9\n",
    "s = int(input())\n",
    "h = s // 3600\n",
    "s = s % 3600\n",
    "m = s // 60\n",
    "s = s % 60\n",
    "print(f'{h} gio {m} phut {s} giay')\n",
    "\n"
   ]
  },
  {
   "cell_type": "code",
   "execution_count": 20,
   "id": "c3ecb587",
   "metadata": {},
   "outputs": [
    {
     "name": "stdout",
     "output_type": "stream",
     "text": [
      "Diem A nam tren duong tron\n"
     ]
    }
   ],
   "source": [
    "#HW10\n",
    "I1, I2, R = map(float, input().split())\n",
    "x, y = map(float, input().split())\n",
    "if (x-I1)**2 + (y-I2)**2 == R**2:\n",
    "    print('Diem A nam tren duong tron')\n",
    "else:\n",
    "    print('Diem A khong nam tren duong tron')"
   ]
  },
  {
   "cell_type": "code",
   "execution_count": 21,
   "id": "0a98509e",
   "metadata": {},
   "outputs": [
    {
     "name": "stdout",
     "output_type": "stream",
     "text": [
      "81.0\n"
     ]
    }
   ],
   "source": [
    "#HW11\n",
    "x, y = map(float, input().split())\n",
    "print(x**y)"
   ]
  }
 ],
 "metadata": {
  "kernelspec": {
   "display_name": "Python 3",
   "language": "python",
   "name": "python3"
  },
  "language_info": {
   "codemirror_mode": {
    "name": "ipython",
    "version": 3
   },
   "file_extension": ".py",
   "mimetype": "text/x-python",
   "name": "python",
   "nbconvert_exporter": "python",
   "pygments_lexer": "ipython3",
   "version": "3.13.5"
  }
 },
 "nbformat": 4,
 "nbformat_minor": 5
}
