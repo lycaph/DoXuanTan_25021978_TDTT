{
 "cells": [
  {
   "cell_type": "code",
   "execution_count": 4,
   "id": "2d631a76",
   "metadata": {},
   "outputs": [
    {
     "name": "stdout",
     "output_type": "stream",
     "text": [
      "a 50 210880\n"
     ]
    }
   ],
   "source": [
    "ten=input()\n",
    "so_dien=int(input())\n",
    "tien=0\n",
    "if so_dien > 400:\n",
    "    tien=(so_dien-400)*2927\n",
    "    so_dien=400\n",
    "if so_dien>300:\n",
    "    tien+=(so_dien-300)*2834\n",
    "    so_dien=300\n",
    "if so_dien>200:\n",
    "    tien+=(so_dien-200)*2536\n",
    "    so_dien=200\n",
    "if so_dien>100:\n",
    "    tien+=(so_dien-100)*2014\n",
    "    so_dien=100\n",
    "if so_dien>50:\n",
    "    tien+=(so_dien-50)*1734\n",
    "    so_dien=50\n",
    "if so_dien>0:\n",
    "    tien+=so_dien*1678\n",
    "print(ten,so_dien,tien)"
   ]
  }
 ],
 "metadata": {
  "kernelspec": {
   "display_name": "Python 3",
   "language": "python",
   "name": "python3"
  },
  "language_info": {
   "codemirror_mode": {
    "name": "ipython",
    "version": 3
   },
   "file_extension": ".py",
   "mimetype": "text/x-python",
   "name": "python",
   "nbconvert_exporter": "python",
   "pygments_lexer": "ipython3",
   "version": "3.13.5"
  }
 },
 "nbformat": 4,
 "nbformat_minor": 5
}
