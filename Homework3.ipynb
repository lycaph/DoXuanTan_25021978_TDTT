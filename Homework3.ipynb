{
 "cells": [
  {
   "cell_type": "code",
   "execution_count": 1,
   "id": "8e55e713",
   "metadata": {},
   "outputs": [
    {
     "name": "stdout",
     "output_type": "stream",
     "text": [
      "1\n",
      "3\n",
      "5\n",
      "7\n",
      "9\n",
      "11\n",
      "13\n",
      "15\n",
      "17\n",
      "19\n",
      "21\n",
      "23\n",
      "25\n",
      "27\n",
      "29\n",
      "31\n",
      "33\n",
      "35\n",
      "37\n",
      "39\n",
      "41\n",
      "43\n",
      "45\n",
      "47\n",
      "49\n",
      "51\n",
      "53\n",
      "55\n",
      "57\n",
      "59\n",
      "61\n",
      "63\n",
      "65\n",
      "67\n",
      "69\n",
      "71\n",
      "73\n",
      "75\n",
      "77\n",
      "79\n",
      "81\n",
      "83\n",
      "85\n",
      "87\n",
      "89\n",
      "91\n",
      "93\n",
      "95\n",
      "97\n",
      "99\n"
     ]
    }
   ],
   "source": [
    "#HW1\n",
    "for i in range(101):\n",
    "    if i%2==1:\n",
    "        print(i)"
   ]
  },
  {
   "cell_type": "code",
   "execution_count": null,
   "id": "122cec20",
   "metadata": {},
   "outputs": [
    {
     "name": "stdout",
     "output_type": "stream",
     "text": [
      "6\n",
      "12\n",
      "18\n",
      "24\n",
      "30\n",
      "36\n",
      "42\n",
      "48\n",
      "54\n",
      "60\n",
      "66\n",
      "72\n",
      "78\n",
      "84\n",
      "90\n",
      "96\n"
     ]
    }
   ],
   "source": [
    "#HW2\n",
    "for i in range(1,101):\n",
    "    if i % 2 == 0 and i % 3 == 0:\n",
    "        print(i)"
   ]
  },
  {
   "cell_type": "code",
   "execution_count": 8,
   "id": "13f97d49",
   "metadata": {},
   "outputs": [
    {
     "name": "stdout",
     "output_type": "stream",
     "text": [
      "3 * 1 = 3\n",
      "3 * 2 = 6\n",
      "3 * 3 = 9\n",
      "3 * 4 = 12\n",
      "3 * 5 = 15\n",
      "3 * 6 = 18\n",
      "3 * 7 = 21\n",
      "3 * 8 = 24\n",
      "3 * 9 = 27\n",
      "3 * 10 = 30\n"
     ]
    }
   ],
   "source": [
    "#HW3\n",
    "a=int(input())\n",
    "for i in range(1,11):\n",
    "    print(f'{a} * {i} = {a*i}')"
   ]
  },
  {
   "cell_type": "code",
   "execution_count": 13,
   "id": "91feede3",
   "metadata": {},
   "outputs": [
    {
     "name": "stdout",
     "output_type": "stream",
     "text": [
      "  *\n",
      " * *\n",
      "*****\n"
     ]
    }
   ],
   "source": [
    "#HW4\n",
    "h=int(input())\n",
    "for i in range(1,h+1):\n",
    "    if i == 1:\n",
    "        print(' '*((2*h-2)//2)+'*')\n",
    "    elif i == h:\n",
    "        print('*'*(2*h-1))\n",
    "    else:\n",
    "        print(' '*(h-i)+'*'+' '*(2*i-3)+'*')"
   ]
  },
  {
   "cell_type": "code",
   "execution_count": 19,
   "id": "41dd11f3",
   "metadata": {},
   "outputs": [
    {
     "name": "stdout",
     "output_type": "stream",
     "text": [
      "5050\n"
     ]
    }
   ],
   "source": [
    "#HW5\n",
    "a=int(input())\n",
    "sum=0\n",
    "for i in range(a+1):\n",
    "    sum+=i\n",
    "print(sum)"
   ]
  },
  {
   "cell_type": "code",
   "execution_count": 21,
   "id": "6c3fbfa4",
   "metadata": {},
   "outputs": [
    {
     "name": "stdout",
     "output_type": "stream",
     "text": [
      "1\n",
      "2\n",
      "3\n",
      "4\n",
      "5\n",
      "6\n",
      "10\n",
      "12\n",
      "15\n",
      "20\n",
      "30\n",
      "60\n"
     ]
    }
   ],
   "source": [
    "#HW6\n",
    "a=int(input())\n",
    "for i in range(1,a+1):\n",
    "    if a % i == 0:\n",
    "        print(i)"
   ]
  },
  {
   "cell_type": "code",
   "execution_count": 24,
   "id": "58035bd8",
   "metadata": {},
   "outputs": [
    {
     "name": "stdout",
     "output_type": "stream",
     "text": [
      "2\n"
     ]
    }
   ],
   "source": [
    "#HW7\n",
    "a=int(input())\n",
    "count=0\n",
    "for i in range(1, a+1):\n",
    "    if a % i ==0:\n",
    "        count+=1\n",
    "print(count)\n"
   ]
  },
  {
   "cell_type": "code",
   "execution_count": 26,
   "id": "83a85519",
   "metadata": {},
   "outputs": [
    {
     "name": "stdout",
     "output_type": "stream",
     "text": [
      "1\n",
      "2\n",
      "3\n",
      "5\n",
      "6\n",
      "10\n",
      "15\n",
      "30\n"
     ]
    }
   ],
   "source": [
    "#HW8\n",
    "a=int(input())\n",
    "b=int(input())\n",
    "if a<b:\n",
    "    for i in range(1 ,a+1):\n",
    "        if a % i == 0 and b % i == 0:\n",
    "            print(i)\n",
    "else:\n",
    "    for i in range(1, b+1):\n",
    "        if a % i == 0 and b % i == 0:\n",
    "            print(i)\n"
   ]
  },
  {
   "cell_type": "code",
   "execution_count": 44,
   "id": "b89413ae",
   "metadata": {},
   "outputs": [
    {
     "name": "stdout",
     "output_type": "stream",
     "text": [
      "a la so chinh phuong\n"
     ]
    }
   ],
   "source": [
    "#HW9\n",
    "a=int(input())\n",
    "ktra = False\n",
    "for i in range(1, a+1):\n",
    "    if a / i == i:\n",
    "        print('a la so chinh phuong')\n",
    "        ktra = True\n",
    "        break\n",
    "if not ktra:\n",
    "    print('a khong phai so chinh phuong')\n"
   ]
  },
  {
   "cell_type": "code",
   "execution_count": 53,
   "id": "c480360d",
   "metadata": {},
   "outputs": [
    {
     "name": "stdout",
     "output_type": "stream",
     "text": [
      "a la so hoan hao\n"
     ]
    }
   ],
   "source": [
    "#HW10\n",
    "a=int(input())\n",
    "sum=0\n",
    "ktra=False\n",
    "for i in range(1, a):\n",
    "    if a % i ==0:\n",
    "        sum+=i\n",
    "        if sum == a:\n",
    "            print('a la so hoan hao')\n",
    "            ktra=True\n",
    "if not ktra:\n",
    "            print('a khong phai so hoan hao')"
   ]
  },
  {
   "cell_type": "code",
   "execution_count": 57,
   "id": "8c44bc7f",
   "metadata": {},
   "outputs": [
    {
     "name": "stdout",
     "output_type": "stream",
     "text": [
      "Ban hay nhap lai!\n",
      "Ban hay nhap lai!\n",
      "Ban hay nhap lai!\n",
      "ban nhap dung quy tac!\n"
     ]
    }
   ],
   "source": [
    "#HW11\n",
    "a=int(input())\n",
    "while True:\n",
    "    if a<0:\n",
    "        print(\"Ban hay nhap lai!\")\n",
    "        a=int(input())\n",
    "    else:\n",
    "        print(\"ban nhap dung quy tac!\")\n",
    "        break\n",
    "    \n"
   ]
  },
  {
   "cell_type": "code",
   "execution_count": 68,
   "id": "a65518f4",
   "metadata": {},
   "outputs": [
    {
     "name": "stdout",
     "output_type": "stream",
     "text": [
      "5\n"
     ]
    }
   ],
   "source": [
    "#HW12\n",
    "n=int(input())\n",
    "sum=0\n",
    "for k in range(n):\n",
    "    sum+=k\n",
    "    if sum >= n:\n",
    "        print(k-1)\n",
    "        break\n"
   ]
  },
  {
   "cell_type": "code",
   "execution_count": 71,
   "id": "e13921e8",
   "metadata": {},
   "outputs": [
    {
     "name": "stdout",
     "output_type": "stream",
     "text": [
      "11\n"
     ]
    }
   ],
   "source": [
    "#HW13\n",
    "A=int(input())\n",
    "sum=0\n",
    "k=0\n",
    "while sum <= A:\n",
    "    k+=1\n",
    "    sum=sum+1/k\n",
    "print(k)\n",
    "\n",
    "\n"
   ]
  },
  {
   "cell_type": "code",
   "execution_count": 6,
   "id": "00433301",
   "metadata": {},
   "outputs": [
    {
     "name": "stdout",
     "output_type": "stream",
     "text": [
      "45\n"
     ]
    }
   ],
   "source": [
    "#HW14\n",
    "a=int(input())\n",
    "while True:\n",
    "    b=int(input())\n",
    "    if a<=b:\n",
    "       a = b \n",
    "    if b==-1:\n",
    "        break\n",
    "print(a)"
   ]
  },
  {
   "cell_type": "code",
   "execution_count": 19,
   "id": "b542b3a2",
   "metadata": {},
   "outputs": [
    {
     "name": "stdout",
     "output_type": "stream",
     "text": [
      "6\n"
     ]
    }
   ],
   "source": [
    "#HW15\n",
    "a=int(input())\n",
    "b=str(a)\n",
    "count=0\n",
    "for i in b:\n",
    "    count+=1\n",
    "print(count)"
   ]
  },
  {
   "cell_type": "code",
   "execution_count": 23,
   "id": "44d404ea",
   "metadata": {},
   "outputs": [
    {
     "name": "stdout",
     "output_type": "stream",
     "text": [
      "so a co 4 so chan\n",
      "so a co 4 so le\n"
     ]
    }
   ],
   "source": [
    "#HW16\n",
    "a=input()\n",
    "chan=0\n",
    "le=0\n",
    "for i in a:\n",
    "    if int(i) % 2 == 0:\n",
    "        chan+=1\n",
    "    else:\n",
    "        le+=1\n",
    "print(f'so a co {chan} so chan')\n",
    "print(f'so a co {le} so le')"
   ]
  },
  {
   "cell_type": "code",
   "execution_count": 27,
   "id": "e139d7d6",
   "metadata": {},
   "outputs": [
    {
     "name": "stdout",
     "output_type": "stream",
     "text": [
      "15\n"
     ]
    }
   ],
   "source": [
    "#HW17\n",
    "a=input()\n",
    "sum=0\n",
    "for i in a:\n",
    "    i=int(i)\n",
    "    sum=sum+i\n",
    "print(sum)"
   ]
  },
  {
   "cell_type": "code",
   "execution_count": 35,
   "id": "30e28a2e",
   "metadata": {},
   "outputs": [
    {
     "name": "stdout",
     "output_type": "stream",
     "text": [
      "n khong co dang 3^k\n"
     ]
    }
   ],
   "source": [
    "#HW18\n",
    "n=int(input())\n",
    "for i in range(1,n):\n",
    "    if 3**i==n:\n",
    "        print('n co dang 3^k')\n",
    "        break\n",
    "    else:\n",
    "        print('n khong co dang 3^k')\n",
    "        break\n",
    "\n"
   ]
  },
  {
   "cell_type": "code",
   "execution_count": 57,
   "id": "715a3594",
   "metadata": {},
   "outputs": [
    {
     "name": "stdout",
     "output_type": "stream",
     "text": [
      "13\n"
     ]
    }
   ],
   "source": [
    "#HW19\n",
    "A=int(input())\n",
    "a=1\n",
    "b=1\n",
    "while b<=A:\n",
    "       a, b=b, a+b\n",
    "print(a)"
   ]
  },
  {
   "cell_type": "code",
   "execution_count": 76,
   "id": "d194ca9e",
   "metadata": {},
   "outputs": [
    {
     "name": "stdout",
     "output_type": "stream",
     "text": [
      "3\n"
     ]
    }
   ],
   "source": [
    "#HW20\n",
    "n=input()\n",
    "cnt2=0\n",
    "for i in n:\n",
    "    cnt=0\n",
    "    for k in range(1, int(i)+1):\n",
    "        if int(i)%k == 0:\n",
    "            cnt+=1\n",
    "    if cnt == 2:\n",
    "        cnt2+=1\n",
    "print(cnt2)\n",
    "                \n"
   ]
  }
 ],
 "metadata": {
  "kernelspec": {
   "display_name": "Python 3",
   "language": "python",
   "name": "python3"
  },
  "language_info": {
   "codemirror_mode": {
    "name": "ipython",
    "version": 3
   },
   "file_extension": ".py",
   "mimetype": "text/x-python",
   "name": "python",
   "nbconvert_exporter": "python",
   "pygments_lexer": "ipython3",
   "version": "3.13.5"
  }
 },
 "nbformat": 4,
 "nbformat_minor": 5
}
